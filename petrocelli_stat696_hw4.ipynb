{
  "nbformat": 4,
  "nbformat_minor": 0,
  "metadata": {
    "colab": {
      "provenance": [],
      "toc_visible": true,
      "authorship_tag": "ABX9TyMJkmR8P/Ed46EH19QmuV/8",
      "include_colab_link": true
    },
    "kernelspec": {
      "name": "python3",
      "display_name": "Python 3"
    },
    "language_info": {
      "name": "python"
    }
  },
  "cells": [
    {
      "cell_type": "markdown",
      "metadata": {
        "id": "view-in-github",
        "colab_type": "text"
      },
      "source": [
        "<a href=\"https://colab.research.google.com/github/nikopetrocelli/489Proj2-Petrocelli/blob/master/petrocelli_stat696_hw4.ipynb\" target=\"_parent\"><img src=\"https://colab.research.google.com/assets/colab-badge.svg\" alt=\"Open In Colab\"/></a>"
      ]
    },
    {
      "cell_type": "markdown",
      "source": [
        "# Captain Niko Petrocelli\n",
        "# STAT 696\n",
        "# HW 4\n",
        "\n",
        "Chapter 12 problems:\n",
        "* 12.2,\n",
        "(answered)\n",
        "* 12.5,\n",
        "(answered)\n",
        "* 12.9,\n",
        "(answered)\n",
        "* 12.10,\n",
        "\n",
        "* 12.11,\n",
        "\n",
        "* 12.12\n",
        "\n",
        "\n",
        "\n",
        "Chapter 4 problems:\n",
        "\n",
        "* 4.5,\n",
        "\n",
        "* 4.9,\n",
        "\n",
        "* 4.20\n"
      ],
      "metadata": {
        "id": "aHjYotYPJNXX"
      }
    },
    {
      "cell_type": "markdown",
      "source": [
        "# Problem 12.2:\n",
        "Refer to Plastic hardness Problem 1.22. If the same test item were measured at 12 different points in time, would the errorterms in the regression model likely be autocorrelated? Discuss.\n",
        "\n",
        "\n"
      ],
      "metadata": {
        "id": "Lox46j6gJfO0"
      }
    },
    {
      "cell_type": "markdown",
      "source": [
        "## Answer 12.2:\n",
        "Yes, because the problem now includes time series data. The error terms are frequently correlated positively over time in this type of data. Error terms correlated over time are considered to be autocorrelated. This is often due to omission of some of the key variables that are positively correlated which in turn make the error terms in the regression model tend to be possitively autocorrelated, since the error terms will capture some of the effects of the missing variables. In the case of the plastic hardness problem, taking the same test item at 12 different points in time could lead to things like temperature variance, or different environmental considerations that may lead to the error terms becoming positively auotcorrelated because the effect of temperature or environmental factors are likely posiitvely correlated over time."
      ],
      "metadata": {
        "id": "1oCnXv-KNI-u"
      }
    },
    {
      "cell_type": "markdown",
      "source": [
        "# Problem 12.5:\n",
        "\n",
        "For each of the following tests concerning the autocorrelation parameter $\\rho $ in regression model (12.2) with three predictor variables state the appropriate decision rule based on the Durbin-Watson test statistic for a sample of size $38: (1) H_0: ρ = 0, H_a: ρ \\not = 0, α = .02;\n",
        "(2) H_0: ρ = 0, H_a: ρ < 0, \\alpha = .05: (3) H_0 : \\rho = 0, H_a: \\rho > 0, \\alpha = .01. $"
      ],
      "metadata": {
        "id": "qklsSIdDL_of"
      }
    },
    {
      "cell_type": "markdown",
      "source": [
        "## Answer 12.5:\n",
        "\n",
        "The DW test stat $D$ is obtained by using ordinary least squares to fit the regression function, calculating the ordinary residuals: $ e_t = Y_t -\\hat Y_t $ and then calculing the test statistic:  \n",
        "$ D = \\frac{\\sum\\limits_{t=2}^n(e_t-e_{t-1})^2}{\\sum\\limits_{t=2}^ne_t^2} $  \n",
        "DW obtained upper bounds, $d_u$ and lower bounds $d_l$, such that a $D$ outside of these pbounds allows for a decision, such that:\n",
        "\n",
        "* If $ D>d_u$, conclude $H_0$\n",
        "* If $ D<d_l$, conclude $H_a$\n",
        "* If $ d_l \\leq D \\leq d_u $, the test is inconclusive\n",
        "* If negative autocorrelation use $4-D$ instead of $D$\n",
        "\n",
        "Using table B.7:\n",
        "\n",
        "1. $H_0: ρ = 0, H_a: ρ \\not = 0, α = .02$  \n",
        "    * At $(p-1 = 3), \\quad d_l = 1.12 \\quad d_u = 1.45$\n",
        "    * For positive autocorrelation: if $D > 1.45$ conclude $H_0$\n",
        "    * For negative autocorrelation: if $4 - D >1.45$ conclude $H_0$\n",
        "    * For positive autocorrelation: if $D < 1.12 $ conclude $H_a$\n",
        "    * For negative autocorrelation: if $4-D < 1.12 $ conclude $H_a$\n",
        "    * Otherwise inconclusive test.\n",
        "2. $H_0: ρ = 0, H_a: ρ < 0, \\alpha = .05$\n",
        "    * At $(p-1 = 3), \\quad d_l = 1.32 \\quad d_u = 1.66$\n",
        "    * For negative autocorrelation: if $4 - D >1.66$ conclude $H_0$\n",
        "    * For negative autocorrelation: if $4-D < 1.32 $ conclude $H_a$\n",
        "    * Otherwise inconclusive test.\n",
        "3. $ H_0 : \\rho = 0, H_a: \\rho > 0, \\alpha = .01$\n",
        "    * At $(p-1 = 3), \\quad d_l = 1.12 \\quad d_u = 1.45$\n",
        "    * For positive autocorrelation: if $D > 1.45$ conclude $H_0$\n",
        "    * For positive autocorrelation: if $D < 1.12 $ conclude $H_a$\n",
        "    * Otherwise inconclusive test.\n",
        "\n",
        "\n"
      ],
      "metadata": {
        "id": "VdcXXkpfNOUj"
      }
    },
    {
      "cell_type": "markdown",
      "source": [
        "# Problem 12.9:\n",
        "\n",
        "A staff analyst for a manufacturer of microcomputer components has compiled monthly data for the past 16 months on the value of industry production of\n",
        "processing units that use these components ($X$, in million dollars) and the value of the firm's components used ($Y$. in thousand dollars). The analyst believes that a simple linear regression relation is appropriate but anticipates positive autocorrelation. The data follow: (file:Ch12pr09_MicrocompterComponents)\n"
      ],
      "metadata": {
        "id": "fOiJ4aFXUz-q"
      }
    },
    {
      "cell_type": "markdown",
      "source": [
        "## (a)\n",
        "Fit a simple linear regression model by ordinary least squares and obtain the residuals. Also obtain $s\\{\\beta_0\\}$ and $s\\{\\beta_1\\}$."
      ],
      "metadata": {
        "id": "k96unX0kVT03"
      }
    },
    {
      "cell_type": "code",
      "source": [
        "import pandas as pd\n",
        "from pathlib import Path\n",
        "import os\n",
        "import numpy as np\n",
        "import matplotlib.pyplot as plt\n",
        "import seaborn as sns\n",
        "import scipy.stats as stats\n",
        "import math\n",
        "\n",
        "\n",
        "import statsmodels.formula.api as smf\n",
        "import statsmodels.api as sm\n",
        "import statsmodels.stats.diagnostic as diag\n",
        "\n",
        "from statsmodels.stats.stattools import durbin_watson\n",
        "\n",
        "from sklearn.preprocessing import StandardScaler\n",
        "from sklearn.model_selection import train_test_split\n",
        "from sklearn.linear_model import LinearRegression\n",
        "from sklearn.metrics import mean_squared_error, r2_score"
      ],
      "metadata": {
        "id": "MjLIkLToWWfp"
      },
      "execution_count": 24,
      "outputs": []
    },
    {
      "cell_type": "code",
      "source": [
        "# !pip install pingouin\n",
        "# import pingouin as p"
      ],
      "metadata": {
        "id": "jfvazN7WNNqt"
      },
      "execution_count": 25,
      "outputs": []
    },
    {
      "cell_type": "code",
      "source": [
        "datFolder = 'Data'\n",
        "filename = 'Ch12pr09_MicrocompterComponents.csv'\n",
        "data_path = os.path.join(os.getcwd() , datFolder, filename)\n",
        "df = pd.read_csv(data_path)\n",
        "df.head()"
      ],
      "metadata": {
        "colab": {
          "base_uri": "https://localhost:8080/",
          "height": 206
        },
        "id": "TS-tar2UWMmy",
        "outputId": "ab119f62-44e8-428f-e4c7-782c2712bdb6"
      },
      "execution_count": 4,
      "outputs": [
        {
          "output_type": "execute_result",
          "data": {
            "text/plain": [
              "       Y      X\n",
              "0  102.9  2.052\n",
              "1  101.5  2.026\n",
              "2  100.8  2.002\n",
              "3   98.0  1.949\n",
              "4   97.3  1.942"
            ],
            "text/html": [
              "\n",
              "  <div id=\"df-10bdf330-3b30-466e-afbc-65a67c5cda63\" class=\"colab-df-container\">\n",
              "    <div>\n",
              "<style scoped>\n",
              "    .dataframe tbody tr th:only-of-type {\n",
              "        vertical-align: middle;\n",
              "    }\n",
              "\n",
              "    .dataframe tbody tr th {\n",
              "        vertical-align: top;\n",
              "    }\n",
              "\n",
              "    .dataframe thead th {\n",
              "        text-align: right;\n",
              "    }\n",
              "</style>\n",
              "<table border=\"1\" class=\"dataframe\">\n",
              "  <thead>\n",
              "    <tr style=\"text-align: right;\">\n",
              "      <th></th>\n",
              "      <th>Y</th>\n",
              "      <th>X</th>\n",
              "    </tr>\n",
              "  </thead>\n",
              "  <tbody>\n",
              "    <tr>\n",
              "      <th>0</th>\n",
              "      <td>102.9</td>\n",
              "      <td>2.052</td>\n",
              "    </tr>\n",
              "    <tr>\n",
              "      <th>1</th>\n",
              "      <td>101.5</td>\n",
              "      <td>2.026</td>\n",
              "    </tr>\n",
              "    <tr>\n",
              "      <th>2</th>\n",
              "      <td>100.8</td>\n",
              "      <td>2.002</td>\n",
              "    </tr>\n",
              "    <tr>\n",
              "      <th>3</th>\n",
              "      <td>98.0</td>\n",
              "      <td>1.949</td>\n",
              "    </tr>\n",
              "    <tr>\n",
              "      <th>4</th>\n",
              "      <td>97.3</td>\n",
              "      <td>1.942</td>\n",
              "    </tr>\n",
              "  </tbody>\n",
              "</table>\n",
              "</div>\n",
              "    <div class=\"colab-df-buttons\">\n",
              "\n",
              "  <div class=\"colab-df-container\">\n",
              "    <button class=\"colab-df-convert\" onclick=\"convertToInteractive('df-10bdf330-3b30-466e-afbc-65a67c5cda63')\"\n",
              "            title=\"Convert this dataframe to an interactive table.\"\n",
              "            style=\"display:none;\">\n",
              "\n",
              "  <svg xmlns=\"http://www.w3.org/2000/svg\" height=\"24px\" viewBox=\"0 -960 960 960\">\n",
              "    <path d=\"M120-120v-720h720v720H120Zm60-500h600v-160H180v160Zm220 220h160v-160H400v160Zm0 220h160v-160H400v160ZM180-400h160v-160H180v160Zm440 0h160v-160H620v160ZM180-180h160v-160H180v160Zm440 0h160v-160H620v160Z\"/>\n",
              "  </svg>\n",
              "    </button>\n",
              "\n",
              "  <style>\n",
              "    .colab-df-container {\n",
              "      display:flex;\n",
              "      gap: 12px;\n",
              "    }\n",
              "\n",
              "    .colab-df-convert {\n",
              "      background-color: #E8F0FE;\n",
              "      border: none;\n",
              "      border-radius: 50%;\n",
              "      cursor: pointer;\n",
              "      display: none;\n",
              "      fill: #1967D2;\n",
              "      height: 32px;\n",
              "      padding: 0 0 0 0;\n",
              "      width: 32px;\n",
              "    }\n",
              "\n",
              "    .colab-df-convert:hover {\n",
              "      background-color: #E2EBFA;\n",
              "      box-shadow: 0px 1px 2px rgba(60, 64, 67, 0.3), 0px 1px 3px 1px rgba(60, 64, 67, 0.15);\n",
              "      fill: #174EA6;\n",
              "    }\n",
              "\n",
              "    .colab-df-buttons div {\n",
              "      margin-bottom: 4px;\n",
              "    }\n",
              "\n",
              "    [theme=dark] .colab-df-convert {\n",
              "      background-color: #3B4455;\n",
              "      fill: #D2E3FC;\n",
              "    }\n",
              "\n",
              "    [theme=dark] .colab-df-convert:hover {\n",
              "      background-color: #434B5C;\n",
              "      box-shadow: 0px 1px 3px 1px rgba(0, 0, 0, 0.15);\n",
              "      filter: drop-shadow(0px 1px 2px rgba(0, 0, 0, 0.3));\n",
              "      fill: #FFFFFF;\n",
              "    }\n",
              "  </style>\n",
              "\n",
              "    <script>\n",
              "      const buttonEl =\n",
              "        document.querySelector('#df-10bdf330-3b30-466e-afbc-65a67c5cda63 button.colab-df-convert');\n",
              "      buttonEl.style.display =\n",
              "        google.colab.kernel.accessAllowed ? 'block' : 'none';\n",
              "\n",
              "      async function convertToInteractive(key) {\n",
              "        const element = document.querySelector('#df-10bdf330-3b30-466e-afbc-65a67c5cda63');\n",
              "        const dataTable =\n",
              "          await google.colab.kernel.invokeFunction('convertToInteractive',\n",
              "                                                    [key], {});\n",
              "        if (!dataTable) return;\n",
              "\n",
              "        const docLinkHtml = 'Like what you see? Visit the ' +\n",
              "          '<a target=\"_blank\" href=https://colab.research.google.com/notebooks/data_table.ipynb>data table notebook</a>'\n",
              "          + ' to learn more about interactive tables.';\n",
              "        element.innerHTML = '';\n",
              "        dataTable['output_type'] = 'display_data';\n",
              "        await google.colab.output.renderOutput(dataTable, element);\n",
              "        const docLink = document.createElement('div');\n",
              "        docLink.innerHTML = docLinkHtml;\n",
              "        element.appendChild(docLink);\n",
              "      }\n",
              "    </script>\n",
              "  </div>\n",
              "\n",
              "\n",
              "<div id=\"df-37dffa4b-df6f-44f8-8b8f-78d7998ecab7\">\n",
              "  <button class=\"colab-df-quickchart\" onclick=\"quickchart('df-37dffa4b-df6f-44f8-8b8f-78d7998ecab7')\"\n",
              "            title=\"Suggest charts\"\n",
              "            style=\"display:none;\">\n",
              "\n",
              "<svg xmlns=\"http://www.w3.org/2000/svg\" height=\"24px\"viewBox=\"0 0 24 24\"\n",
              "     width=\"24px\">\n",
              "    <g>\n",
              "        <path d=\"M19 3H5c-1.1 0-2 .9-2 2v14c0 1.1.9 2 2 2h14c1.1 0 2-.9 2-2V5c0-1.1-.9-2-2-2zM9 17H7v-7h2v7zm4 0h-2V7h2v10zm4 0h-2v-4h2v4z\"/>\n",
              "    </g>\n",
              "</svg>\n",
              "  </button>\n",
              "\n",
              "<style>\n",
              "  .colab-df-quickchart {\n",
              "      --bg-color: #E8F0FE;\n",
              "      --fill-color: #1967D2;\n",
              "      --hover-bg-color: #E2EBFA;\n",
              "      --hover-fill-color: #174EA6;\n",
              "      --disabled-fill-color: #AAA;\n",
              "      --disabled-bg-color: #DDD;\n",
              "  }\n",
              "\n",
              "  [theme=dark] .colab-df-quickchart {\n",
              "      --bg-color: #3B4455;\n",
              "      --fill-color: #D2E3FC;\n",
              "      --hover-bg-color: #434B5C;\n",
              "      --hover-fill-color: #FFFFFF;\n",
              "      --disabled-bg-color: #3B4455;\n",
              "      --disabled-fill-color: #666;\n",
              "  }\n",
              "\n",
              "  .colab-df-quickchart {\n",
              "    background-color: var(--bg-color);\n",
              "    border: none;\n",
              "    border-radius: 50%;\n",
              "    cursor: pointer;\n",
              "    display: none;\n",
              "    fill: var(--fill-color);\n",
              "    height: 32px;\n",
              "    padding: 0;\n",
              "    width: 32px;\n",
              "  }\n",
              "\n",
              "  .colab-df-quickchart:hover {\n",
              "    background-color: var(--hover-bg-color);\n",
              "    box-shadow: 0 1px 2px rgba(60, 64, 67, 0.3), 0 1px 3px 1px rgba(60, 64, 67, 0.15);\n",
              "    fill: var(--button-hover-fill-color);\n",
              "  }\n",
              "\n",
              "  .colab-df-quickchart-complete:disabled,\n",
              "  .colab-df-quickchart-complete:disabled:hover {\n",
              "    background-color: var(--disabled-bg-color);\n",
              "    fill: var(--disabled-fill-color);\n",
              "    box-shadow: none;\n",
              "  }\n",
              "\n",
              "  .colab-df-spinner {\n",
              "    border: 2px solid var(--fill-color);\n",
              "    border-color: transparent;\n",
              "    border-bottom-color: var(--fill-color);\n",
              "    animation:\n",
              "      spin 1s steps(1) infinite;\n",
              "  }\n",
              "\n",
              "  @keyframes spin {\n",
              "    0% {\n",
              "      border-color: transparent;\n",
              "      border-bottom-color: var(--fill-color);\n",
              "      border-left-color: var(--fill-color);\n",
              "    }\n",
              "    20% {\n",
              "      border-color: transparent;\n",
              "      border-left-color: var(--fill-color);\n",
              "      border-top-color: var(--fill-color);\n",
              "    }\n",
              "    30% {\n",
              "      border-color: transparent;\n",
              "      border-left-color: var(--fill-color);\n",
              "      border-top-color: var(--fill-color);\n",
              "      border-right-color: var(--fill-color);\n",
              "    }\n",
              "    40% {\n",
              "      border-color: transparent;\n",
              "      border-right-color: var(--fill-color);\n",
              "      border-top-color: var(--fill-color);\n",
              "    }\n",
              "    60% {\n",
              "      border-color: transparent;\n",
              "      border-right-color: var(--fill-color);\n",
              "    }\n",
              "    80% {\n",
              "      border-color: transparent;\n",
              "      border-right-color: var(--fill-color);\n",
              "      border-bottom-color: var(--fill-color);\n",
              "    }\n",
              "    90% {\n",
              "      border-color: transparent;\n",
              "      border-bottom-color: var(--fill-color);\n",
              "    }\n",
              "  }\n",
              "</style>\n",
              "\n",
              "  <script>\n",
              "    async function quickchart(key) {\n",
              "      const quickchartButtonEl =\n",
              "        document.querySelector('#' + key + ' button');\n",
              "      quickchartButtonEl.disabled = true;  // To prevent multiple clicks.\n",
              "      quickchartButtonEl.classList.add('colab-df-spinner');\n",
              "      try {\n",
              "        const charts = await google.colab.kernel.invokeFunction(\n",
              "            'suggestCharts', [key], {});\n",
              "      } catch (error) {\n",
              "        console.error('Error during call to suggestCharts:', error);\n",
              "      }\n",
              "      quickchartButtonEl.classList.remove('colab-df-spinner');\n",
              "      quickchartButtonEl.classList.add('colab-df-quickchart-complete');\n",
              "    }\n",
              "    (() => {\n",
              "      let quickchartButtonEl =\n",
              "        document.querySelector('#df-37dffa4b-df6f-44f8-8b8f-78d7998ecab7 button');\n",
              "      quickchartButtonEl.style.display =\n",
              "        google.colab.kernel.accessAllowed ? 'block' : 'none';\n",
              "    })();\n",
              "  </script>\n",
              "</div>\n",
              "\n",
              "    </div>\n",
              "  </div>\n"
            ],
            "application/vnd.google.colaboratory.intrinsic+json": {
              "type": "dataframe",
              "variable_name": "df",
              "summary": "{\n  \"name\": \"df\",\n  \"rows\": 16,\n  \"fields\": [\n    {\n      \"column\": \"Y\",\n      \"properties\": {\n        \"dtype\": \"number\",\n        \"std\": 3.887967549590232,\n        \"min\": 93.5,\n        \"max\": 107.2,\n        \"num_unique_values\": 14,\n        \"samples\": [\n          107.2,\n          103.9,\n          102.9\n        ],\n        \"semantic_type\": \"\",\n        \"description\": \"\"\n      }\n    },\n    {\n      \"column\": \"X\",\n      \"properties\": {\n        \"dtype\": \"number\",\n        \"std\": 0.07000639851708793,\n        \"min\": 1.887,\n        \"max\": 2.15,\n        \"num_unique_values\": 15,\n        \"samples\": [\n          2.113,\n          2.06,\n          2.052\n        ],\n        \"semantic_type\": \"\",\n        \"description\": \"\"\n      }\n    }\n  ]\n}"
            }
          },
          "metadata": {},
          "execution_count": 4
        }
      ]
    },
    {
      "cell_type": "code",
      "source": [
        "model = smf.ols('Y ~ X', data=df).fit()\n",
        "print(model.summary())"
      ],
      "metadata": {
        "colab": {
          "base_uri": "https://localhost:8080/"
        },
        "id": "rKYyMGnFWtAA",
        "outputId": "40d0f5e0-c91a-4ec5-d985-d2eefd690099"
      },
      "execution_count": 5,
      "outputs": [
        {
          "output_type": "stream",
          "name": "stdout",
          "text": [
            "                            OLS Regression Results                            \n",
            "==============================================================================\n",
            "Dep. Variable:                      Y   R-squared:                       0.944\n",
            "Model:                            OLS   Adj. R-squared:                  0.940\n",
            "Method:                 Least Squares   F-statistic:                     235.0\n",
            "Date:                Sun, 27 Oct 2024   Prob (F-statistic):           3.82e-10\n",
            "Time:                        19:01:43   Log-Likelihood:                -20.886\n",
            "No. Observations:                  16   AIC:                             45.77\n",
            "Df Residuals:                      14   BIC:                             47.32\n",
            "Df Model:                           1                                         \n",
            "Covariance Type:            nonrobust                                         \n",
            "==============================================================================\n",
            "                 coef    std err          t      P>|t|      [0.025      0.975]\n",
            "------------------------------------------------------------------------------\n",
            "Intercept     -7.7385      7.175     -1.079      0.299     -23.127       7.650\n",
            "X             53.9533      3.520     15.329      0.000      46.404      61.502\n",
            "==============================================================================\n",
            "Omnibus:                        0.220   Durbin-Watson:                   0.857\n",
            "Prob(Omnibus):                  0.896   Jarque-Bera (JB):                0.087\n",
            "Skew:                          -0.134   Prob(JB):                        0.957\n",
            "Kurtosis:                       2.758   Cond. No.                         76.0\n",
            "==============================================================================\n",
            "\n",
            "Notes:\n",
            "[1] Standard Errors assume that the covariance matrix of the errors is correctly specified.\n"
          ]
        },
        {
          "output_type": "stream",
          "name": "stderr",
          "text": [
            "/usr/local/lib/python3.10/dist-packages/scipy/stats/_axis_nan_policy.py:531: UserWarning: kurtosistest only valid for n>=20 ... continuing anyway, n=16\n",
            "  res = hypotest_fun_out(*samples, **kwds)\n"
          ]
        }
      ]
    },
    {
      "cell_type": "code",
      "source": [
        "print(f\"Slope Standard Error: {model.bse['X']}\")\n",
        "print(f\"Intercept Standard Error: {model.bse['Intercept']}\")"
      ],
      "metadata": {
        "colab": {
          "base_uri": "https://localhost:8080/"
        },
        "id": "KNguPL4EWwpc",
        "outputId": "ed308b09-e647-448f-c064-8ff8a208b243"
      },
      "execution_count": 7,
      "outputs": [
        {
          "output_type": "stream",
          "name": "stdout",
          "text": [
            "Slope Standard Error: 3.5196716413618274\n",
            "Intercept Standard Error: 7.174638751741572\n"
          ]
        }
      ]
    },
    {
      "cell_type": "markdown",
      "source": [
        "### Solution\n",
        "\n",
        "The code above shows the model takes the form $ \\hat Y = -7.7385 + 53.9533X $ and $s\\{\\beta_0\\} = 7.174638751741572, \\quad s\\{\\beta_1\\} =3.5196716413618274 $"
      ],
      "metadata": {
        "id": "LH_KoSWkXQci"
      }
    },
    {
      "cell_type": "markdown",
      "source": [
        "## (b)\n",
        "\n",
        "Plot the residuals against time and explain whether you find any evidence of positive autocorrelation."
      ],
      "metadata": {
        "id": "PFcwMp30X5Xy"
      }
    },
    {
      "cell_type": "code",
      "source": [
        "residuals = model.resid\n",
        "print(f\"residuals are: {np.array(residuals)}\")\n",
        "time=np.linspace(1, len(residuals), len(residuals))\n",
        "print(f\"times are: {np.array(time)}\")"
      ],
      "metadata": {
        "colab": {
          "base_uri": "https://localhost:8080/"
        },
        "id": "_WKr4CGCYW8e",
        "outputId": "6499ed69-5447-4f9c-bc6e-47a4fc1a130c"
      },
      "execution_count": 16,
      "outputs": [
        {
          "output_type": "stream",
          "name": "stdout",
          "text": [
            "residuals are: [-0.07368933 -0.07090311  0.52397648  0.58350225  0.26117547 -0.57139213\n",
            " -1.91277045 -0.82764265 -0.67135515  0.93515837  1.80259077  0.49468414\n",
            "  0.94351704  0.31561781 -0.67135515 -1.06111434]\n",
            "times are: [ 1.  2.  3.  4.  5.  6.  7.  8.  9. 10. 11. 12. 13. 14. 15. 16.]\n"
          ]
        }
      ]
    },
    {
      "cell_type": "code",
      "source": [
        "plt.scatter(time, residuals)\n",
        "plt.title('Residuals vs Time')\n",
        "plt.xlabel('Time')\n",
        "plt.ylabel('Residuals')\n",
        "plt.axhline(y=0, linestyle=\"--\", color='r')\n",
        "plt.show()"
      ],
      "metadata": {
        "colab": {
          "base_uri": "https://localhost:8080/",
          "height": 472
        },
        "id": "uTx_qYL-YY8S",
        "outputId": "73f680af-57a9-4b12-d1f1-f1179c3dfb73"
      },
      "execution_count": 20,
      "outputs": [
        {
          "output_type": "display_data",
          "data": {
            "text/plain": [
              "<Figure size 640x480 with 1 Axes>"
            ],
            "image/png": "[encoded data removed]"
          },
          "metadata": {}
        }
      ]
    },
    {
      "cell_type": "markdown",
      "source": [
        "### Solution\n",
        "\n",
        "Yes, I see evidence of positive autocorrelation due to the cyclical behavior of my error terms."
      ],
      "metadata": {
        "id": "IAaIwKSDZTMq"
      }
    },
    {
      "cell_type": "markdown",
      "source": [
        "## (c)\n",
        "Conduct a forrual test for positive autocorrelation using $\\alpha = .05$. State the alternatives, decision rule, and conclusion. Is the residual analysis in part (b) in accord with the test result?\n"
      ],
      "metadata": {
        "id": "RxmY6adIZjia"
      }
    },
    {
      "cell_type": "markdown",
      "source": [
        "### Solution\n",
        "First from table B.7 for $\\alpha=.05$ and $n=16, \\quad p-1=1$ we get $d_l = 1.10, \\quad d_u=1.37$ leveraging the same rules we followed in problem 12.5 (and only searching for positive correlation):\n",
        "\n",
        "$ H_0 : ρ=0, \\quad H_a : \\rho  >0 , \\quad \\alpha = .05$\n",
        "\n",
        "* If $ D>d_u$, conclude $H_0$\n",
        "* If $ D<d_l$, conclude $H_a$\n",
        "* If $ d_l \\leq D \\leq d_u $, the test is inconclusive\n",
        "* If negative autocorrelation use $4-D$ instead of $D$"
      ],
      "metadata": {
        "id": "iu59wRLxaBcT"
      }
    },
    {
      "cell_type": "code",
      "source": [
        "d_l = 1.10\n",
        "d_u = 1.37\n",
        "dw_stat = durbin_watson(residuals)\n",
        "print(f\"Durbin-Watson Statistic: {dw_stat}\")\n",
        "\n",
        "if dw_stat > d_u:\n",
        "  print(f\"Conclude H0\")\n",
        "elif dw_stat < d_l:\n",
        "  print(f\"Conclude Ha\")\n",
        "else:\n",
        "  print(f\"Inconclusive\")"
      ],
      "metadata": {
        "colab": {
          "base_uri": "https://localhost:8080/"
        },
        "id": "IfQtexnHZVIK",
        "outputId": "0098c749-5770-4486-bf16-d970b868e077"
      },
      "execution_count": 23,
      "outputs": [
        {
          "output_type": "stream",
          "name": "stdout",
          "text": [
            "Durbin-Watson Statistic: 0.8566023880687499\n",
            "Conclude Ha\n"
          ]
        }
      ]
    },
    {
      "cell_type": "markdown",
      "source": [
        "Therefore we conclude $H_a$ that positive autocorrelation exists. Yes, this is exactly in accordance with my residual analysis from part (b)."
      ],
      "metadata": {
        "id": "WhgYbQbkblw1"
      }
    }
  ]
}