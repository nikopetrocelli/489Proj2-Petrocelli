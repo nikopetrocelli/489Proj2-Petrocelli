{
  "nbformat": 4,
  "nbformat_minor": 0,
  "metadata": {
    "colab": {
      "provenance": [],
      "authorship_tag": "ABX9TyMJks6gi56ob0dYF+aRAlua",
      "include_colab_link": true
    },
    "kernelspec": {
      "name": "python3",
      "display_name": "Python 3"
    },
    "language_info": {
      "name": "python"
    }
  },
  "cells": [
    {
      "cell_type": "markdown",
      "metadata": {
        "id": "view-in-github",
        "colab_type": "text"
      },
      "source": [
        "<a href=\"https://colab.research.google.com/github/nikopetrocelli/489Proj2-Petrocelli/blob/master/petrocelli_stat696_hw4.ipynb\" target=\"_parent\"><img src=\"https://colab.research.google.com/assets/colab-badge.svg\" alt=\"Open In Colab\"/></a>"
      ]
    },
    {
      "cell_type": "markdown",
      "source": [
        "# Captain Niko Petrocelli\n",
        "# STAT 696\n",
        "# HW 4\n",
        "\n",
        "Chapter 12 problems:\n",
        "* 12.2,\n",
        "\n",
        "* 12.5,\n",
        "\n",
        "* 12.9,\n",
        "\n",
        "* 12.10,\n",
        "\n",
        "* 12.11,\n",
        "\n",
        "* 12.12\n",
        "\n",
        "\n",
        "\n",
        "Chapter 4 problems:\n",
        "\n",
        "* 4.5,\n",
        "\n",
        "* 4.9,\n",
        "\n",
        "* 4.20\n"
      ],
      "metadata": {
        "id": "aHjYotYPJNXX"
      }
    },
    {
      "cell_type": "markdown",
      "source": [
        "# Problem 12.2\n",
        "\n"
      ],
      "metadata": {
        "id": "Lox46j6gJfO0"
      }
    }
  ]
}