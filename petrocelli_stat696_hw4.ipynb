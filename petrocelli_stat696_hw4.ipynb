{
  "nbformat": 4,
  "nbformat_minor": 0,
  "metadata": {
    "colab": {
      "provenance": [],
      "toc_visible": true,
      "authorship_tag": "ABX9TyOkE3elF4Z5LKWuY+hXyAWv",
      "include_colab_link": true
    },
    "kernelspec": {
      "name": "python3",
      "display_name": "Python 3"
    },
    "language_info": {
      "name": "python"
    }
  },
  "cells": [
    {
      "cell_type": "markdown",
      "metadata": {
        "id": "view-in-github",
        "colab_type": "text"
      },
      "source": [
        "<a href=\"https://colab.research.google.com/github/nikopetrocelli/489Proj2-Petrocelli/blob/master/petrocelli_stat696_hw4.ipynb\" target=\"_parent\"><img src=\"https://colab.research.google.com/assets/colab-badge.svg\" alt=\"Open In Colab\"/></a>"
      ]
    },
    {
      "cell_type": "markdown",
      "source": [
        "# Captain Niko Petrocelli\n",
        "# STAT 696\n",
        "# HW 4\n",
        "\n",
        "Chapter 12 problems:\n",
        "* 12.2,\n",
        "(answered)\n",
        "* 12.5,\n",
        "(answered)\n",
        "* 12.9,\n",
        "\n",
        "* 12.10,\n",
        "\n",
        "* 12.11,\n",
        "\n",
        "* 12.12\n",
        "\n",
        "\n",
        "\n",
        "Chapter 4 problems:\n",
        "\n",
        "* 4.5,\n",
        "\n",
        "* 4.9,\n",
        "\n",
        "* 4.20\n"
      ],
      "metadata": {
        "id": "aHjYotYPJNXX"
      }
    },
    {
      "cell_type": "markdown",
      "source": [
        "# Problem 12.2:\n",
        "Refer to Plastic hardness Problem 1.22. If the same test item were measured at 12 different points in time, would the errorterms in the regression model likely be autocorrelated? Discuss.\n",
        "\n",
        "\n"
      ],
      "metadata": {
        "id": "Lox46j6gJfO0"
      }
    },
    {
      "cell_type": "markdown",
      "source": [
        "## Answer 12.2:\n",
        "Yes, because the problem now includes time series data. The error terms are frequently correlated positively over time in this type of data. Error terms correlated over time are considered to be autocorrelated. This is often due to omission of some of the key variables that are positively correlated which in turn make the error terms in the regression model tend to be possitively autocorrelated, since the error terms will capture some of the effects of the missing variables. In the case of the plastic hardness problem, taking the same test item at 12 different points in time could lead to things like temperature variance, or different environmental considerations that may lead to the error terms becoming positively auotcorrelated because the effect of temperature or environmental factors are likely posiitvely correlated over time."
      ],
      "metadata": {
        "id": "1oCnXv-KNI-u"
      }
    },
    {
      "cell_type": "markdown",
      "source": [
        "# Problem 12.5:\n",
        "\n",
        "For each of the following tests concerning the autocorrelation parameter $\\rho $ in regression model (12.2) with three predictor variables state the appropriate decision rule based on the Durbin-Watson test statistic for a sample of size $38: (1) H_0: ρ = 0, H_a: ρ \\not = 0, α = .02;\n",
        "(2) H_0: ρ = 0, H_a: ρ < 0, \\alpha = .05: (3) H_0 : \\rho = 0, H_a: \\rho > 0, \\alpha = .01. $"
      ],
      "metadata": {
        "id": "qklsSIdDL_of"
      }
    },
    {
      "cell_type": "markdown",
      "source": [
        "## Answer 12.5:\n",
        "\n",
        "The DW test stat $D$ is obtained by using ordinary least squares to fit the regression function, calculating the ordinary residuals: $ e_t = Y_t -\\hat Y_t $ and then calculing the test statistic:  \n",
        "$ D = \\frac{\\sum\\limits_{t=2}^n(e_t-e_{t-1})^2}{\\sum\\limits_{t=2}^ne_t^2} $  \n",
        "DW obtained upper bounds, $d_u$ and lower bounds $d_l$, such that a $D$ outside of these pbounds allows for a decision, such that:\n",
        "\n",
        "* If $ D>d_u$, conclude $H_0$\n",
        "* If $ D<d_l$, conclude $H_a$\n",
        "* If $ d_l \\leq D \\leq d_u $, the test is inconclusive\n",
        "* If negative autocorrelation use $4-D$ instead of $D$\n",
        "\n",
        "Using table B.7:\n",
        "\n",
        "1. $H_0: ρ = 0, H_a: ρ \\not = 0, α = .02$  \n",
        "    * At $(p-1 = 3), \\quad d_l = 1.12 \\quad d_u = 1.45$\n",
        "    * For positive autocorrelation: if $D > 1.45$ conclude $H_0$\n",
        "    * For negative autocorrelation: if $4 - D >1.45$ conclude $H_0$\n",
        "    * For positive autocorrelation: if $D < 1.12 $ conclude $H_a$\n",
        "    * For negative autocorrelation: if $4-D < 1.12 $ conclude $H_a$\n",
        "    * Otherwise inconclusive test.\n",
        "2. $H_0: ρ = 0, H_a: ρ < 0, \\alpha = .05$\n",
        "    * At $(p-1 = 3), \\quad d_l = 1.32 \\quad d_u = 1.66$\n",
        "    * For negative autocorrelation: if $4 - D >1.66$ conclude $H_0$\n",
        "    * For negative autocorrelation: if $4-D < 1.32 $ conclude $H_a$\n",
        "    * Otherwise inconclusive test.\n",
        "3. $ H_0 : \\rho = 0, H_a: \\rho > 0, \\alpha = .01$\n",
        "    * At $(p-1 = 3), \\quad d_l = 1.12 \\quad d_u = 1.45$\n",
        "    * For positive autocorrelation: if $D > 1.45$ conclude $H_0$\n",
        "    * For positive autocorrelation: if $D < 1.12 $ conclude $H_a$\n",
        "    * Otherwise inconclusive test.\n",
        "\n",
        "\n"
      ],
      "metadata": {
        "id": "VdcXXkpfNOUj"
      }
    },
    {
      "cell_type": "markdown",
      "source": [
        "# Problem 12.9:\n",
        "\n",
        "A staff analyst for a manufacturer of microcomputer components has compiled monthly data for the past 16 months on the value of industry production of\n",
        "processing units that use these components ($X$, in million dollars) and the value of the firm's components used ($Y$. in thousand dollars). The analyst believes that a simple linear regression relation is appropriate but anticipates positive autocorrelation. The data follow: (file:Ch12pr09_MicrocompterComponents)\n"
      ],
      "metadata": {
        "id": "fOiJ4aFXUz-q"
      }
    },
    {
      "cell_type": "markdown",
      "source": [
        "## (a) Fit a simple linear regression model by ordinary least squares and obtain the residuals. Also obtain $s\\{\\beta_0\\}$ and $s\\{\\beta_1\\}$."
      ],
      "metadata": {
        "id": "k96unX0kVT03"
      }
    },
    {
      "cell_type": "code",
      "source": [],
      "metadata": {
        "id": "loB5hgYPVmvn"
      },
      "execution_count": null,
      "outputs": []
    },
    {
      "cell_type": "code",
      "source": [],
      "metadata": {
        "id": "jfvazN7WNNqt"
      },
      "execution_count": null,
      "outputs": []
    }
  ]
}